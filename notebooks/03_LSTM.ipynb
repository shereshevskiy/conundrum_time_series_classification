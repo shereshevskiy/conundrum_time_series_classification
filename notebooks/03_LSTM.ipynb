{
 "cells": [
  {
   "cell_type": "markdown",
   "id": "1fbef30f-ff0b-4941-9e5b-05601a12a070",
   "metadata": {},
   "source": [
    "# <center> LSTM"
   ]
  },
  {
   "cell_type": "code",
   "execution_count": 1,
   "id": "8313503c-3c1f-4a01-aa80-ff799a88d0f6",
   "metadata": {},
   "outputs": [],
   "source": [
    "import os\n",
    "os.chdir(\"..\")"
   ]
  },
  {
   "cell_type": "code",
   "execution_count": 2,
   "id": "e13ea64e-b120-4b14-ab31-0259601d24f8",
   "metadata": {},
   "outputs": [],
   "source": [
    "import numpy as np\n",
    "import pandas as pd\n",
    "from sklearn.model_selection import train_test_split\n",
    "from sklearn.metrics import precision_score, recall_score, roc_auc_score\n",
    "import matplotlib.pyplot as plt\n",
    "import seaborn as sns"
   ]
  },
  {
   "cell_type": "code",
   "execution_count": 10,
   "id": "5c1ad556-677d-4d35-836e-6f3800d5cde7",
   "metadata": {},
   "outputs": [],
   "source": [
    "import torch\n",
    "import torch.nn as nn"
   ]
  },
  {
   "cell_type": "markdown",
   "id": "ccd66f95-fa21-47df-8415-d5f290b74462",
   "metadata": {},
   "source": [
    "## data"
   ]
  },
  {
   "cell_type": "code",
   "execution_count": 3,
   "id": "77058c80-c4a8-433f-b4eb-36a1052977bc",
   "metadata": {},
   "outputs": [],
   "source": [
    "data_path = \"data\""
   ]
  },
  {
   "cell_type": "code",
   "execution_count": 4,
   "id": "22763b61-5756-42a5-b552-36652510fceb",
   "metadata": {},
   "outputs": [],
   "source": [
    "X_train = np.load(os.path.join(data_path, \"X_train.npy\"))\n",
    "X_test = np.load(os.path.join(data_path, \"X_test.npy\"))\n",
    "y_train = np.load(os.path.join(data_path, \"y_train.npy\"))\n",
    "y_test = np.load(os.path.join(data_path, \"y_test.npy\"))"
   ]
  },
  {
   "cell_type": "code",
   "execution_count": 5,
   "id": "6f0f269f-0e4c-4111-8ef5-0f2a78625bf3",
   "metadata": {},
   "outputs": [
    {
     "data": {
      "text/plain": [
       "((7352, 128, 9), (7352, 6))"
      ]
     },
     "execution_count": 5,
     "metadata": {},
     "output_type": "execute_result"
    }
   ],
   "source": [
    "X_train.shape, y_train.shape"
   ]
  },
  {
   "cell_type": "code",
   "execution_count": 6,
   "id": "a0e80cb4-d6e3-4092-bbab-fe41d0564eb6",
   "metadata": {},
   "outputs": [
    {
     "data": {
      "text/plain": [
       "((2947, 128, 9), (2947, 6))"
      ]
     },
     "execution_count": 6,
     "metadata": {},
     "output_type": "execute_result"
    }
   ],
   "source": [
    "X_test.shape, y_test.shape"
   ]
  },
  {
   "cell_type": "code",
   "execution_count": 5,
   "id": "7e944747-e866-4954-a4d6-5ba9a5b78e4d",
   "metadata": {},
   "outputs": [],
   "source": [
    "y_train_num = y_train.argmax(1)\n",
    "y_test_num = y_test.argmax(1)"
   ]
  },
  {
   "cell_type": "markdown",
   "id": "e2f32bcb-bfad-4a1f-bac3-504be1316566",
   "metadata": {},
   "source": [
    "#### посмотрим на баланс классов"
   ]
  },
  {
   "cell_type": "code",
   "execution_count": 6,
   "id": "f2620dd2-0c61-4249-a412-2e207a231cfe",
   "metadata": {},
   "outputs": [
    {
     "data": {
      "text/plain": [
       "0    1226\n",
       "1    1073\n",
       "2     986\n",
       "3    1286\n",
       "4    1374\n",
       "5    1407\n",
       "dtype: int64"
      ]
     },
     "execution_count": 6,
     "metadata": {},
     "output_type": "execute_result"
    }
   ],
   "source": [
    "pd.Series(y_train_num).value_counts().sort_index()"
   ]
  },
  {
   "cell_type": "markdown",
   "id": "a1e45db9-5496-4a93-be74-05fc91733d2a",
   "metadata": {},
   "source": [
    "В первом приближении классы можно считать близкими к сбалансированным"
   ]
  },
  {
   "cell_type": "markdown",
   "id": "e8f150ed-b148-4817-bc54-6481f8ff163f",
   "metadata": {},
   "source": [
    "#### нормализуем данные"
   ]
  },
  {
   "cell_type": "code",
   "execution_count": 7,
   "id": "789c563d-2052-494e-8fa6-363d0bd842ea",
   "metadata": {},
   "outputs": [],
   "source": [
    "X_train_mean = X_train.mean(0)\n",
    "X_train_std = X_train.std(0)"
   ]
  },
  {
   "cell_type": "code",
   "execution_count": 9,
   "id": "58728bfa-7ed5-47e1-a460-3a5e1be7c6bb",
   "metadata": {},
   "outputs": [],
   "source": [
    "X_train_norm = (X_train - X_train_mean) / X_train_std\n",
    "X_test_norm = (X_test - X_train_mean) / X_train_std"
   ]
  },
  {
   "cell_type": "markdown",
   "id": "3d29914d-bfdb-4326-996c-fbc8b7507e91",
   "metadata": {},
   "source": [
    "#### model"
   ]
  },
  {
   "cell_type": "code",
   "execution_count": 12,
   "id": "4faa3d1c-e647-450b-ae55-838af498f5f4",
   "metadata": {},
   "outputs": [],
   "source": [
    "class LSTM(nn.Module):\n",
    "    def __init__(self, input_size, hidden_size, num_classes, num_layers=1, batch_first=True):\n",
    "        self.input_size = input_size\n",
    "        self.hidden_size = hidden_size\n",
    "        self.num_classes = num_classes\n",
    "        self.num_layers = num_layers\n",
    "        self.batch_first = batch_first\n",
    "        \n",
    "        self.lstm = nn.LSTM(input_size=input_size, hidden_size=hidden_size,\n",
    "                          num_layers=num_layers, batch_first=True)  #lstm\n",
    "        self.fc_1 =  nn.Linear(hidden_size, 128)  #fully connected 1\n",
    "        self.fc = nn.Linear(128, num_classes)  #fully connected last layer\n",
    "\n",
    "        self.relu = nn.ReLU()\n",
    "    \n",
    "    def forward(self, input):\n",
    "        out, _ = self.lstm(input)\n",
    "        out = self.relu(out[:, -1, :])\n",
    "        out = self.fc_1(out)  #first Dense\n",
    "        out = self.relu(out)  #relu\n",
    "        out = self.fc(out)  #Final Output\n",
    "        return out"
   ]
  },
  {
   "cell_type": "code",
   "execution_count": null,
   "id": "b379b4eb-947a-42a2-8e09-a965f4c98d87",
   "metadata": {},
   "outputs": [],
   "source": []
  }
 ],
 "metadata": {
  "kernelspec": {
   "display_name": "Python 3 (ipykernel)",
   "language": "python",
   "name": "python3"
  },
  "language_info": {
   "codemirror_mode": {
    "name": "ipython",
    "version": 3
   },
   "file_extension": ".py",
   "mimetype": "text/x-python",
   "name": "python",
   "nbconvert_exporter": "python",
   "pygments_lexer": "ipython3",
   "version": "3.8.6"
  }
 },
 "nbformat": 4,
 "nbformat_minor": 5
}

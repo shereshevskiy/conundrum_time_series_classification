{
 "cells": [
  {
   "cell_type": "markdown",
   "id": "1fbef30f-ff0b-4941-9e5b-05601a12a070",
   "metadata": {
    "id": "1fbef30f-ff0b-4941-9e5b-05601a12a070"
   },
   "source": [
    "# <center> LSTM и 1D CNN\n",
    "# <center> Summary"
   ]
  },
  {
   "cell_type": "code",
   "execution_count": 1,
   "id": "8313503c-3c1f-4a01-aa80-ff799a88d0f6",
   "metadata": {
    "id": "8313503c-3c1f-4a01-aa80-ff799a88d0f6"
   },
   "outputs": [],
   "source": [
    "import os\n",
    "os.chdir(\"..\")"
   ]
  },
  {
   "cell_type": "code",
   "execution_count": 2,
   "id": "e13ea64e-b120-4b14-ab31-0259601d24f8",
   "metadata": {
    "id": "e13ea64e-b120-4b14-ab31-0259601d24f8"
   },
   "outputs": [],
   "source": [
    "import os\n",
    "import numpy as np\n",
    "import pandas as pd\n",
    "from sklearn.model_selection import train_test_split\n",
    "from sklearn.metrics import precision_score, recall_score, roc_auc_score\n",
    "import matplotlib.pyplot as plt\n",
    "import seaborn as sns\n",
    "from collections import defaultdict\n",
    "import time"
   ]
  },
  {
   "cell_type": "code",
   "execution_count": 3,
   "id": "5c1ad556-677d-4d35-836e-6f3800d5cde7",
   "metadata": {
    "id": "5c1ad556-677d-4d35-836e-6f3800d5cde7"
   },
   "outputs": [],
   "source": [
    "import torch\n",
    "import torch.nn as nn\n",
    "from torch.utils.data import DataLoader, Dataset"
   ]
  },
  {
   "cell_type": "code",
   "execution_count": 4,
   "id": "e0d29617-60ee-459f-8002-96ee9466e5f8",
   "metadata": {
    "colab": {
     "base_uri": "https://localhost:8080/"
    },
    "id": "e0d29617-60ee-459f-8002-96ee9466e5f8",
    "outputId": "725437fd-6995-4daf-8059-5a34c4b8dbf2"
   },
   "outputs": [
    {
     "data": {
      "text/plain": [
       "device(type='cuda', index=0)"
      ]
     },
     "execution_count": 4,
     "metadata": {},
     "output_type": "execute_result"
    }
   ],
   "source": [
    "device = torch.device(\"cuda:0\" if torch.cuda.is_available() else \"cpu\")\n",
    "device"
   ]
  },
  {
   "cell_type": "markdown",
   "id": "ccd66f95-fa21-47df-8415-d5f290b74462",
   "metadata": {
    "id": "ccd66f95-fa21-47df-8415-d5f290b74462"
   },
   "source": [
    "## data"
   ]
  },
  {
   "cell_type": "code",
   "execution_count": 5,
   "id": "77058c80-c4a8-433f-b4eb-36a1052977bc",
   "metadata": {
    "id": "77058c80-c4a8-433f-b4eb-36a1052977bc"
   },
   "outputs": [],
   "source": [
    "data_path = \"data\""
   ]
  },
  {
   "cell_type": "code",
   "execution_count": 6,
   "id": "22763b61-5756-42a5-b552-36652510fceb",
   "metadata": {
    "id": "22763b61-5756-42a5-b552-36652510fceb"
   },
   "outputs": [],
   "source": [
    "X_train = np.load(os.path.join(data_path, \"X_train.npy\"))\n",
    "X_test = np.load(os.path.join(data_path, \"X_test.npy\"))\n",
    "y_train = np.load(os.path.join(data_path, \"y_train.npy\"))\n",
    "y_test = np.load(os.path.join(data_path, \"y_test.npy\"))"
   ]
  },
  {
   "cell_type": "code",
   "execution_count": 7,
   "id": "6f0f269f-0e4c-4111-8ef5-0f2a78625bf3",
   "metadata": {
    "colab": {
     "base_uri": "https://localhost:8080/"
    },
    "id": "6f0f269f-0e4c-4111-8ef5-0f2a78625bf3",
    "outputId": "a9fdede3-43fc-4a1a-8e1d-cb838ebb37f7"
   },
   "outputs": [
    {
     "data": {
      "text/plain": [
       "((7352, 128, 9), (7352, 6))"
      ]
     },
     "execution_count": 7,
     "metadata": {},
     "output_type": "execute_result"
    }
   ],
   "source": [
    "X_train.shape, y_train.shape"
   ]
  },
  {
   "cell_type": "code",
   "execution_count": 8,
   "id": "a0e80cb4-d6e3-4092-bbab-fe41d0564eb6",
   "metadata": {
    "colab": {
     "base_uri": "https://localhost:8080/"
    },
    "id": "a0e80cb4-d6e3-4092-bbab-fe41d0564eb6",
    "outputId": "b540258b-1c37-4088-b639-d960cbf7203f"
   },
   "outputs": [
    {
     "data": {
      "text/plain": [
       "((2947, 128, 9), (2947, 6))"
      ]
     },
     "execution_count": 8,
     "metadata": {},
     "output_type": "execute_result"
    }
   ],
   "source": [
    "X_test.shape, y_test.shape"
   ]
  },
  {
   "cell_type": "markdown",
   "id": "e2f32bcb-bfad-4a1f-bac3-504be1316566",
   "metadata": {
    "id": "e2f32bcb-bfad-4a1f-bac3-504be1316566"
   },
   "source": [
    "#### посмотрим на баланс классов"
   ]
  },
  {
   "cell_type": "code",
   "execution_count": 10,
   "id": "f2620dd2-0c61-4249-a412-2e207a231cfe",
   "metadata": {
    "colab": {
     "base_uri": "https://localhost:8080/"
    },
    "id": "f2620dd2-0c61-4249-a412-2e207a231cfe",
    "outputId": "0ff02905-84fe-41d8-cd71-742aa1e7d0af"
   },
   "outputs": [
    {
     "data": {
      "text/plain": [
       "0    1226\n",
       "1    1073\n",
       "2     986\n",
       "3    1286\n",
       "4    1374\n",
       "5    1407\n",
       "dtype: int64"
      ]
     },
     "execution_count": 10,
     "metadata": {},
     "output_type": "execute_result"
    }
   ],
   "source": [
    "pd.Series(y_train.argmax(1)).value_counts().sort_index()"
   ]
  },
  {
   "cell_type": "markdown",
   "id": "a1e45db9-5496-4a93-be74-05fc91733d2a",
   "metadata": {
    "id": "a1e45db9-5496-4a93-be74-05fc91733d2a"
   },
   "source": [
    "В первом приближении классы можно считать близкими к сбалансированным"
   ]
  },
  {
   "cell_type": "markdown",
   "id": "e8f150ed-b148-4817-bc54-6481f8ff163f",
   "metadata": {
    "id": "e8f150ed-b148-4817-bc54-6481f8ff163f"
   },
   "source": [
    "#### нормализуем данные и переведем их в torch"
   ]
  },
  {
   "cell_type": "code",
   "execution_count": 11,
   "id": "789c563d-2052-494e-8fa6-363d0bd842ea",
   "metadata": {
    "id": "789c563d-2052-494e-8fa6-363d0bd842ea"
   },
   "outputs": [],
   "source": [
    "X_train_mean = X_train.mean(0)\n",
    "X_train_std = X_train.std(0)"
   ]
  },
  {
   "cell_type": "code",
   "execution_count": 12,
   "id": "58728bfa-7ed5-47e1-a460-3a5e1be7c6bb",
   "metadata": {
    "id": "58728bfa-7ed5-47e1-a460-3a5e1be7c6bb"
   },
   "outputs": [],
   "source": [
    "X_train_norm = (X_train - X_train_mean) / X_train_std\n",
    "X_test_norm = (X_test - X_train_mean) / X_train_std"
   ]
  },
  {
   "cell_type": "code",
   "execution_count": 13,
   "id": "9c764d5a-ed9f-4d57-8393-5db254619d06",
   "metadata": {
    "id": "9c764d5a-ed9f-4d57-8393-5db254619d06"
   },
   "outputs": [],
   "source": [
    "X_train_norm = torch.FloatTensor(X_train_norm)\n",
    "X_test_norm = torch.FloatTensor(X_test_norm)\n",
    "y_train = torch.FloatTensor(y_train)\n",
    "y_test = torch.FloatTensor(y_test)"
   ]
  },
  {
   "cell_type": "markdown",
   "id": "a10cbc56-c9ad-460e-802a-7e72c2c406d1",
   "metadata": {
    "id": "a10cbc56-c9ad-460e-802a-7e72c2c406d1"
   },
   "source": [
    "#### организуем данные для обучения"
   ]
  },
  {
   "cell_type": "code",
   "execution_count": 15,
   "id": "b379b4eb-947a-42a2-8e09-a965f4c98d87",
   "metadata": {
    "id": "b379b4eb-947a-42a2-8e09-a965f4c98d87"
   },
   "outputs": [],
   "source": [
    "class DatasetCustom(Dataset):\n",
    "    \"\"\"\n",
    "    Кастомный класс датасета\n",
    "    \"\"\"\n",
    "    def __init__(self, x, y):\n",
    "        self.x = x\n",
    "        self.y = y\n",
    "    \n",
    "    def __len__(self):\n",
    "        return len(self.x)\n",
    "    \n",
    "    def __getitem__(self, key):\n",
    "        return self.x[key], self.y[key]"
   ]
  },
  {
   "cell_type": "code",
   "execution_count": 17,
   "id": "061b23af-0102-4c61-86fa-a7a7a57279e7",
   "metadata": {
    "colab": {
     "base_uri": "https://localhost:8080/"
    },
    "id": "061b23af-0102-4c61-86fa-a7a7a57279e7",
    "outputId": "0a7c616d-69c9-41cc-da36-2df1fafc6bf0"
   },
   "outputs": [
    {
     "data": {
      "text/plain": [
       "(114, 46)"
      ]
     },
     "execution_count": 17,
     "metadata": {},
     "output_type": "execute_result"
    }
   ],
   "source": [
    "BATCH_SIZE = 64\n",
    "\n",
    "train_dataset = DatasetCustom(X_train_norm, y_train)\n",
    "test_dataset = DatasetCustom(X_test_norm, y_test)\n",
    "\n",
    "dataloader_train = DataLoader(train_dataset,\n",
    "                              batch_size=BATCH_SIZE,\n",
    "                              shuffle=True,\n",
    "                              drop_last=True\n",
    "                              )\n",
    "\n",
    "dataloader_test = DataLoader(test_dataset,\n",
    "                            batch_size=BATCH_SIZE,\n",
    "                            shuffle=True,\n",
    "                            drop_last=True\n",
    "                            )\n",
    "len(dataloader_train), len(dataloader_test)"
   ]
  },
  {
   "cell_type": "markdown",
   "id": "4b7a06ad-f822-4fa1-a922-fcd8ca64cfbe",
   "metadata": {
    "id": "4b7a06ad-f822-4fa1-a922-fcd8ca64cfbe"
   },
   "source": [
    "#### готовим обучение"
   ]
  },
  {
   "cell_type": "code",
   "execution_count": 26,
   "id": "3fdfddae-9686-45ea-b578-45875fcf3809",
   "metadata": {
    "id": "3fdfddae-9686-45ea-b578-45875fcf3809"
   },
   "outputs": [],
   "source": [
    "def train_model(model, dataloaders, optimizer, num_epochs=3):\n",
    "    since = time.time()\n",
    "\n",
    "    history = {'train': defaultdict(lambda : []), 'val': defaultdict(lambda : [])}\n",
    "\n",
    "    for epoch in range(num_epochs):\n",
    "        print(f'    Epoch {epoch + 1}/{num_epochs}')\n",
    "\n",
    "        # Each epoch has a training and validation phase\n",
    "        for phase in ['train', 'val']:\n",
    "            if phase == 'train':\n",
    "                model.train()  # Set model to training mode\n",
    "            else:\n",
    "                model.eval()   # Set model to evaluate mode\n",
    "\n",
    "            epoch_loss = 0.0\n",
    "\n",
    "            # Iterate over data.\n",
    "            n_batches = len(dataloaders[phase])\n",
    "            for inputs, y in dataloaders[phase]:\n",
    "                inputs = inputs.to(device)\n",
    "                y = y.to(device)\n",
    "\n",
    "                # zero the parameter gradients\n",
    "                optimizer.zero_grad()\n",
    "\n",
    "                # forward\n",
    "                with torch.set_grad_enabled(phase == 'train'):\n",
    "                    outputs = model(inputs)\n",
    "                    loss = model.loss(outputs, y)\n",
    "\n",
    "                    # backward + optimize only if in training phase\n",
    "                    if phase == 'train':\n",
    "                        loss.backward()\n",
    "                        optimizer.step()\n",
    "\n",
    "                # loss accumulate\n",
    "                epoch_loss += loss.item()\n",
    "                \n",
    "            # statistics\n",
    "            epoch_loss = epoch_loss / len(dataloaders[phase])\n",
    "            \n",
    "            X = X_train_norm if phase == \"train\" else X_test_norm\n",
    "            y_ = y_train if phase == \"train\" else y_test\n",
    "            pred_probs = model(X.to(device))\n",
    "            pred_labels = torch.argmax(pred_probs, dim=1)\n",
    "            true_labels = torch.argmax(y_, dim=1)\n",
    "            \n",
    "            precision = precision_score(true_labels, pred_labels.cpu(), average='micro')\n",
    "            recall = recall_score(true_labels, pred_labels.cpu(), average='micro')\n",
    "            roc_auc = roc_auc_score(y_, pred_probs.cpu().detach().numpy(), multi_class=\"ovo\")\n",
    "            \n",
    "            history[phase][\"Loss\"].append(epoch_loss)\n",
    "            history[phase][\"precision\"].append(precision)\n",
    "            history[phase][\"recall\"].append(recall)\n",
    "            history[phase][\"roc_auc\"].append(roc_auc)\n",
    "            \n",
    "            print(f'{phase} Loss: {epoch_loss:.4f}, precision: {precision:.4f}, recall: {recall:.4f}, roc_auc: {roc_auc:.4f}, ')\n",
    "            \n",
    "    time_elapsed = time.time() - since\n",
    "    print('Training complete in {:.0f}m {:.0f}s'.format(time_elapsed // 60, time_elapsed % 60))\n",
    "    \n",
    "    return model, history"
   ]
  },
  {
   "cell_type": "markdown",
   "id": "WWUpGmWXOFxv",
   "metadata": {
    "id": "WWUpGmWXOFxv"
   },
   "source": [
    "#### готовим вывод графиков результата обучения"
   ]
  },
  {
   "cell_type": "code",
   "execution_count": null,
   "id": "57e46a52-e268-481f-af8f-7f588f8e10d4",
   "metadata": {
    "id": "57e46a52-e268-481f-af8f-7f588f8e10d4"
   },
   "outputs": [],
   "source": [
    "def history_plot(history, plot_items: list, title=None):\n",
    "    plt.figure(figsize=(10, 6))\n",
    "\n",
    "    for mode in history:\n",
    "        for item in plot_items:\n",
    "            plt.plot(history[mode][item], label=f\"{mode} {item}\")\n",
    "    if not title:\n",
    "        title = \", \".join(plot_items)\n",
    "    plt.title(title)\n",
    "    plt.xlabel(\"Epochs\")\n",
    "    plt.legend()\n",
    "    plt.grid()"
   ]
  },
  {
   "cell_type": "markdown",
   "id": "rDvyd4FuNhKb",
   "metadata": {
    "id": "rDvyd4FuNhKb"
   },
   "source": [
    "## <center>модель 1: LSTM"
   ]
  },
  {
   "cell_type": "code",
   "execution_count": 51,
   "id": "lTOMR9tbNhKv",
   "metadata": {
    "id": "lTOMR9tbNhKv"
   },
   "outputs": [],
   "source": [
    "class LSTM(nn.Module):\n",
    "    def __init__(self, input_size, hidden_size, num_classes, num_layers=1, dropout=0.2, batch_first=True):\n",
    "        super().__init__()\n",
    "        \n",
    "        self.input_size = input_size\n",
    "        self.hidden_size = hidden_size\n",
    "        self.num_classes = num_classes\n",
    "        self.num_layers = num_layers\n",
    "        self.batch_first = batch_first\n",
    "        \n",
    "        self.lstm = nn.LSTM(input_size=input_size, hidden_size=hidden_size,\n",
    "                          num_layers=num_layers, dropout=dropout, batch_first=True)  # lstm\n",
    "        self.fc_1 =  nn.Linear(hidden_size, 128)  # fully connected 1\n",
    "        self.fc = nn.Linear(128, num_classes)  # fully connected last layer\n",
    "\n",
    "        self.relu = nn.ReLU()\n",
    "    \n",
    "    def forward(self, input):\n",
    "        _, (hn, _) = self.lstm(input)\n",
    "        out = self.relu(hn[-1])\n",
    "        out = self.fc_1(out)  # first Dense\n",
    "        out = self.relu(out)  # relu\n",
    "        out = self.fc(out)  # Final Output\n",
    "        return out\n",
    "    \n",
    "    def loss(self, y_pred, y_true):\n",
    "        loss = nn.CrossEntropyLoss()\n",
    "        return loss(y_pred, y_true)"
   ]
  },
  {
   "cell_type": "markdown",
   "id": "c9e4851a-9493-4735-a193-9523a2cd6c64",
   "metadata": {
    "id": "c9e4851a-9493-4735-a193-9523a2cd6c64"
   },
   "source": [
    "### settings"
   ]
  },
  {
   "cell_type": "code",
   "execution_count": 52,
   "id": "71e8df31-6f25-4d77-937b-58ff15eb62ed",
   "metadata": {
    "colab": {
     "base_uri": "https://localhost:8080/"
    },
    "id": "71e8df31-6f25-4d77-937b-58ff15eb62ed",
    "outputId": "e2aeace5-29c5-4b60-98dc-bb638eb923ae"
   },
   "outputs": [
    {
     "data": {
      "text/plain": [
       "(9, 6)"
      ]
     },
     "execution_count": 52,
     "metadata": {},
     "output_type": "execute_result"
    }
   ],
   "source": [
    "input_size = X_train_norm.shape[2]\n",
    "num_classes = y_train.shape[1]\n",
    "input_size, num_classes"
   ]
  },
  {
   "cell_type": "code",
   "execution_count": 56,
   "id": "1785d3e5-919e-445a-aab1-5d9a411a836f",
   "metadata": {
    "id": "1785d3e5-919e-445a-aab1-5d9a411a836f"
   },
   "outputs": [],
   "source": [
    "model1 = LSTM(input_size=input_size, hidden_size=100, num_classes=num_classes, num_layers=2).to(device)\n",
    "\n",
    "optimizer = torch.optim.Adam(model1.parameters())\n",
    "dataloaders = {\n",
    "    \"train\": dataloader_train, \n",
    "    \"val\": dataloader_test\n",
    "}"
   ]
  },
  {
   "cell_type": "markdown",
   "id": "1b523bac-50ec-49a7-a08b-2d6db492b4d6",
   "metadata": {
    "id": "1b523bac-50ec-49a7-a08b-2d6db492b4d6"
   },
   "source": [
    "### train"
   ]
  },
  {
   "cell_type": "code",
   "execution_count": 57,
   "id": "631ac1f1-3637-49b9-bcd6-cfd4f9ee402f",
   "metadata": {
    "colab": {
     "base_uri": "https://localhost:8080/"
    },
    "id": "631ac1f1-3637-49b9-bcd6-cfd4f9ee402f",
    "outputId": "8f85bbad-c0fe-411c-c0da-1da92ef66499"
   },
   "outputs": [
    {
     "name": "stdout",
     "output_type": "stream",
     "text": [
      "    Epoch 1/30\n",
      "train Loss: 1.2221, precision: 0.4086, recall: 0.4086, roc_auc: 0.8627, \n",
      "val Loss: 1.0219, precision: 0.4174, recall: 0.4174, roc_auc: 0.8523, \n",
      "    Epoch 2/30\n",
      "train Loss: 0.8086, precision: 0.6715, recall: 0.6715, roc_auc: 0.9014, \n",
      "val Loss: 0.8275, precision: 0.6166, recall: 0.6166, roc_auc: 0.8800, \n",
      "    Epoch 3/30\n",
      "train Loss: 0.5780, precision: 0.8591, recall: 0.8591, roc_auc: 0.9772, \n",
      "val Loss: 0.5778, precision: 0.8273, recall: 0.8273, roc_auc: 0.9661, \n",
      "    Epoch 4/30\n",
      "train Loss: 0.3653, precision: 0.9325, recall: 0.9325, roc_auc: 0.9922, \n",
      "val Loss: 0.4487, precision: 0.8673, recall: 0.8673, roc_auc: 0.9759, \n",
      "    Epoch 5/30\n",
      "train Loss: 0.1714, precision: 0.9252, recall: 0.9252, roc_auc: 0.9919, \n",
      "val Loss: 0.5506, precision: 0.8381, recall: 0.8381, roc_auc: 0.9745, \n",
      "    Epoch 6/30\n",
      "train Loss: 0.1510, precision: 0.9563, recall: 0.9563, roc_auc: 0.9947, \n",
      "val Loss: 0.2997, precision: 0.9026, recall: 0.9026, roc_auc: 0.9873, \n",
      "    Epoch 7/30\n",
      "train Loss: 0.1423, precision: 0.9550, recall: 0.9550, roc_auc: 0.9952, \n",
      "val Loss: 0.3237, precision: 0.8962, recall: 0.8962, roc_auc: 0.9878, \n",
      "    Epoch 8/30\n",
      "train Loss: 0.1385, precision: 0.9369, recall: 0.9369, roc_auc: 0.9951, \n",
      "val Loss: 0.3849, precision: 0.8819, recall: 0.8819, roc_auc: 0.9879, \n",
      "    Epoch 9/30\n",
      "train Loss: 0.1315, precision: 0.9159, recall: 0.9159, roc_auc: 0.9943, \n",
      "val Loss: 0.5049, precision: 0.8829, recall: 0.8829, roc_auc: 0.9821, \n",
      "    Epoch 10/30\n",
      "train Loss: 0.2083, precision: 0.9437, recall: 0.9437, roc_auc: 0.9920, \n",
      "val Loss: 0.4492, precision: 0.8839, recall: 0.8839, roc_auc: 0.9840, \n",
      "    Epoch 11/30\n",
      "train Loss: 0.1610, precision: 0.9499, recall: 0.9499, roc_auc: 0.9938, \n",
      "val Loss: 0.3917, precision: 0.8999, recall: 0.8999, roc_auc: 0.9852, \n",
      "    Epoch 12/30\n",
      "train Loss: 0.1379, precision: 0.9513, recall: 0.9513, roc_auc: 0.9936, \n",
      "val Loss: 0.4044, precision: 0.9016, recall: 0.9016, roc_auc: 0.9848, \n",
      "    Epoch 13/30\n",
      "train Loss: 0.1282, precision: 0.9516, recall: 0.9516, roc_auc: 0.9940, \n",
      "val Loss: 0.4597, precision: 0.8968, recall: 0.8968, roc_auc: 0.9838, \n",
      "    Epoch 14/30\n",
      "train Loss: 0.1355, precision: 0.9448, recall: 0.9448, roc_auc: 0.9940, \n",
      "val Loss: 0.5431, precision: 0.8812, recall: 0.8812, roc_auc: 0.9800, \n",
      "    Epoch 15/30\n",
      "train Loss: 0.1373, precision: 0.9524, recall: 0.9524, roc_auc: 0.9924, \n",
      "val Loss: 0.4598, precision: 0.8935, recall: 0.8935, roc_auc: 0.9840, \n",
      "    Epoch 16/30\n",
      "train Loss: 0.1444, precision: 0.9440, recall: 0.9440, roc_auc: 0.9938, \n",
      "val Loss: 0.5003, precision: 0.8985, recall: 0.8985, roc_auc: 0.9836, \n",
      "    Epoch 17/30\n",
      "train Loss: 0.1314, precision: 0.9363, recall: 0.9363, roc_auc: 0.9942, \n",
      "val Loss: 0.5288, precision: 0.8921, recall: 0.8921, roc_auc: 0.9828, \n",
      "    Epoch 18/30\n",
      "train Loss: 0.1166, precision: 0.9554, recall: 0.9554, roc_auc: 0.9941, \n",
      "val Loss: 0.4582, precision: 0.9023, recall: 0.9023, roc_auc: 0.9842, \n",
      "    Epoch 19/30\n",
      "train Loss: 0.1205, precision: 0.9591, recall: 0.9591, roc_auc: 0.9953, \n",
      "val Loss: 0.4741, precision: 0.8989, recall: 0.8989, roc_auc: 0.9838, \n",
      "    Epoch 20/30\n",
      "train Loss: 0.1153, precision: 0.9467, recall: 0.9467, roc_auc: 0.9955, \n",
      "val Loss: 0.4667, precision: 0.9019, recall: 0.9019, roc_auc: 0.9832, \n",
      "    Epoch 21/30\n",
      "train Loss: 0.2008, precision: 0.8692, recall: 0.8692, roc_auc: 0.9870, \n",
      "val Loss: 0.7591, precision: 0.7845, recall: 0.7845, roc_auc: 0.9777, \n",
      "    Epoch 22/30\n",
      "train Loss: 0.1966, precision: 0.9551, recall: 0.9551, roc_auc: 0.9951, \n",
      "val Loss: 0.3684, precision: 0.8996, recall: 0.8996, roc_auc: 0.9836, \n",
      "    Epoch 23/30\n",
      "train Loss: 0.1214, precision: 0.9529, recall: 0.9529, roc_auc: 0.9954, \n",
      "val Loss: 0.3575, precision: 0.9046, recall: 0.9046, roc_auc: 0.9861, \n",
      "    Epoch 24/30\n",
      "train Loss: 0.1239, precision: 0.9550, recall: 0.9550, roc_auc: 0.9955, \n",
      "val Loss: 0.3975, precision: 0.9040, recall: 0.9040, roc_auc: 0.9853, \n",
      "    Epoch 25/30\n",
      "train Loss: 0.1164, precision: 0.9483, recall: 0.9483, roc_auc: 0.9955, \n",
      "val Loss: 0.4883, precision: 0.8816, recall: 0.8816, roc_auc: 0.9817, \n",
      "    Epoch 26/30\n",
      "train Loss: 0.1154, precision: 0.9484, recall: 0.9484, roc_auc: 0.9956, \n",
      "val Loss: 0.3971, precision: 0.8982, recall: 0.8982, roc_auc: 0.9863, \n",
      "    Epoch 27/30\n",
      "train Loss: 0.1073, precision: 0.9572, recall: 0.9572, roc_auc: 0.9958, \n",
      "val Loss: 0.3257, precision: 0.9138, recall: 0.9138, roc_auc: 0.9884, \n",
      "    Epoch 28/30\n",
      "train Loss: 0.1301, precision: 0.9593, recall: 0.9593, roc_auc: 0.9958, \n",
      "val Loss: 0.3370, precision: 0.9080, recall: 0.9080, roc_auc: 0.9877, \n",
      "    Epoch 29/30\n",
      "train Loss: 0.1224, precision: 0.9554, recall: 0.9554, roc_auc: 0.9957, \n",
      "val Loss: 0.2607, precision: 0.9179, recall: 0.9179, roc_auc: 0.9906, \n",
      "    Epoch 30/30\n",
      "train Loss: 0.1038, precision: 0.9584, recall: 0.9584, roc_auc: 0.9956, \n",
      "val Loss: 0.2458, precision: 0.9203, recall: 0.9203, roc_auc: 0.9909, \n",
      "Training complete in 2m 54s\n"
     ]
    }
   ],
   "source": [
    "model1, history1 = train_model(model1, dataloaders, optimizer, num_epochs=30)"
   ]
  },
  {
   "cell_type": "code",
   "execution_count": 58,
   "id": "8b3e2c28-e5ba-4f4d-a6c8-6654a10e25f0",
   "metadata": {
    "colab": {
     "base_uri": "https://localhost:8080/",
     "height": 404
    },
    "id": "8b3e2c28-e5ba-4f4d-a6c8-6654a10e25f0",
    "outputId": "54ef8855-3a62-4d49-e098-9204533203e8"
   },
   "outputs": [
    {
     "data": {
      "image/png": "[encoded data removed]",
      "text/plain": [
       "<Figure size 720x432 with 1 Axes>"
      ]
     },
     "metadata": {
      "needs_background": "light"
     },
     "output_type": "display_data"
    }
   ],
   "source": [
    "history_plot(history1, [\"precision\", \"recall\", \"roc_auc\"])"
   ]
  },
  {
   "cell_type": "code",
   "execution_count": 59,
   "id": "1505170f-5fe9-4de6-aed7-a24277c743b2",
   "metadata": {
    "colab": {
     "base_uri": "https://localhost:8080/",
     "height": 404
    },
    "id": "1505170f-5fe9-4de6-aed7-a24277c743b2",
    "outputId": "5644d2eb-3773-4344-d8cf-7bbd27fd3e65"
   },
   "outputs": [
    {
     "data": {
      "image/png": "[encoded data removed]",
      "text/plain": [
       "<Figure size 720x432 with 1 Axes>"
      ]
     },
     "metadata": {
      "needs_background": "light"
     },
     "output_type": "display_data"
    }
   ],
   "source": [
    "history_plot(history1, [\"Loss\"])"
   ]
  },
  {
   "cell_type": "markdown",
   "id": "OKKD7wPwUAh5",
   "metadata": {
    "id": "OKKD7wPwUAh5"
   },
   "source": [
    "### Посмотрим, какие метрики получаются на тестовой выборке"
   ]
  },
  {
   "cell_type": "code",
   "execution_count": 61,
   "id": "76e4ca12-b850-4d17-9e48-def3cc8b3bac",
   "metadata": {
    "colab": {
     "base_uri": "https://localhost:8080/"
    },
    "id": "76e4ca12-b850-4d17-9e48-def3cc8b3bac",
    "outputId": "0d0f77fe-4c5b-4b78-a373-fa74c0a69ab6"
   },
   "outputs": [
    {
     "name": "stdout",
     "output_type": "stream",
     "text": [
      "precision = 0.92\n",
      "recall = 0.92\n",
      "roc_auc = 0.991\n"
     ]
    }
   ],
   "source": [
    "pred_probs = model1(X_test_norm.to(device))\n",
    "pred_labels = torch.argmax(pred_probs, dim=1)\n",
    "true_labels = torch.argmax(y_test, dim=1)\n",
    "\n",
    "precision = precision_score(true_labels, pred_labels.cpu(), average='micro')\n",
    "recall = recall_score(true_labels, pred_labels.cpu(), average='micro')\n",
    "roc_auc = roc_auc_score(y_test, pred_probs.cpu().detach().numpy(), multi_class=\"ovo\")\n",
    "\n",
    "print(f\"precision = {round(precision, 3)}\")\n",
    "print(f\"recall = {round(recall, 3)}\")\n",
    "print(f\"roc_auc = {round(roc_auc, 3)}\")"
   ]
  },
  {
   "cell_type": "markdown",
   "id": "ZRX25mmnUa_-",
   "metadata": {
    "id": "ZRX25mmnUa_-"
   },
   "source": [
    "## <center>модель 2: CNN 1D"
   ]
  },
  {
   "cell_type": "code",
   "execution_count": 152,
   "id": "kCidKnGJUa__",
   "metadata": {
    "id": "kCidKnGJUa__"
   },
   "outputs": [],
   "source": [
    "class CNN1D(nn.Module):\n",
    "    def __init__(self, input_size, hidden_size, num_classes, dropout=0.2):\n",
    "        super().__init__()\n",
    "        \n",
    "        self.input_size = input_size\n",
    "        self.hidden_size = hidden_size\n",
    "        self.num_classes = num_classes\n",
    "        self.dropout = dropout\n",
    "\n",
    "        self.layer1 = nn.Sequential(\n",
    "            nn.Conv1d(in_channels=input_size, out_channels=hidden_size, \n",
    "                               kernel_size=3, padding=\"same\"), \n",
    "            nn.ReLU(), \n",
    "            nn.MaxPool1d(2, stride=2), \n",
    "            nn.Dropout(p=dropout)\n",
    "        )\n",
    "        self.layer2 = nn.Sequential(\n",
    "            nn.Conv1d(in_channels=hidden_size, out_channels=hidden_size, \n",
    "                               kernel_size=3, padding=\"same\"), \n",
    "            nn.ReLU(), \n",
    "            nn.MaxPool1d(2, stride=2), \n",
    "            nn.Dropout(p=dropout)\n",
    "        )\n",
    "        self.layer3 = nn.Sequential(\n",
    "            nn.Conv1d(in_channels=hidden_size, out_channels=hidden_size, \n",
    "                               kernel_size=3, padding=\"same\"), \n",
    "            nn.ReLU(), \n",
    "            nn.MaxPool1d(2, stride=2), \n",
    "            nn.Dropout(p=dropout)\n",
    "        )\n",
    "        self.fc1 =  nn.Linear(16 * hidden_size, 128)  # fully connected 1\n",
    "        self.drop = nn.Dropout()\n",
    "        self.fc = nn.Linear(128, num_classes)  # fully connected last layer\n",
    "\n",
    "        self.relu = nn.ReLU()\n",
    "    \n",
    "    def forward(self, input):\n",
    "        input = input.transpose(2, 1)\n",
    "        x = self.layer1(input)\n",
    "        x = self.layer2(x)\n",
    "        x = self.layer3(x)\n",
    "        x = x.view(x.shape[0], -1)\n",
    "        x = self.fc1(x)  # first Dense\n",
    "        x = self.relu(x)\n",
    "        x = self.drop(x)\n",
    "        out = self.fc(x)  # Final Output\n",
    "        return out\n",
    "    \n",
    "    def loss(self, y_pred, y_true):\n",
    "        loss = nn.CrossEntropyLoss()\n",
    "        return loss(y_pred, y_true)"
   ]
  },
  {
   "cell_type": "markdown",
   "id": "zXKes6lMUbAA",
   "metadata": {
    "id": "zXKes6lMUbAA"
   },
   "source": [
    "### settings"
   ]
  },
  {
   "cell_type": "code",
   "execution_count": 153,
   "id": "f7sJJWy2UbAA",
   "metadata": {
    "colab": {
     "base_uri": "https://localhost:8080/"
    },
    "id": "f7sJJWy2UbAA",
    "outputId": "7c0d57eb-617e-4061-d9a5-3f372dc09523"
   },
   "outputs": [
    {
     "data": {
      "text/plain": [
       "(9, 6)"
      ]
     },
     "execution_count": 153,
     "metadata": {},
     "output_type": "execute_result"
    }
   ],
   "source": [
    "input_size = X_train_norm.shape[2]\n",
    "num_classes = y_train.shape[1]\n",
    "input_size, num_classes"
   ]
  },
  {
   "cell_type": "code",
   "execution_count": 157,
   "id": "r8uW-h7lUbAB",
   "metadata": {
    "id": "r8uW-h7lUbAB"
   },
   "outputs": [],
   "source": [
    "model2 = CNN1D(input_size=input_size, hidden_size=10, num_classes=num_classes, dropout=0.1).to(device)\n",
    "\n",
    "optimizer = torch.optim.Adam(model2.parameters())\n",
    "dataloaders = {\n",
    "    \"train\": dataloader_train, \n",
    "    \"val\": dataloader_test\n",
    "}"
   ]
  },
  {
   "cell_type": "markdown",
   "id": "q_hcraaNUbAB",
   "metadata": {
    "id": "q_hcraaNUbAB"
   },
   "source": [
    "### train"
   ]
  },
  {
   "cell_type": "code",
   "execution_count": 158,
   "id": "ub7LrZfYUbAC",
   "metadata": {
    "colab": {
     "base_uri": "https://localhost:8080/"
    },
    "id": "ub7LrZfYUbAC",
    "outputId": "8e2fb4fb-d903-42c0-aa21-0d7c4879f625"
   },
   "outputs": [
    {
     "name": "stdout",
     "output_type": "stream",
     "text": [
      "    Epoch 1/40\n",
      "train Loss: 1.0269, precision: 0.7926, recall: 0.7926, roc_auc: 0.9112, \n",
      "val Loss: 0.6036, precision: 0.7655, recall: 0.7655, roc_auc: 0.9060, \n",
      "    Epoch 2/40\n",
      "train Loss: 0.3887, precision: 0.8818, recall: 0.8818, roc_auc: 0.9394, \n",
      "val Loss: 0.4805, precision: 0.8334, recall: 0.8334, roc_auc: 0.9375, \n",
      "    Epoch 3/40\n",
      "train Loss: 0.2702, precision: 0.9048, recall: 0.9048, roc_auc: 0.9461, \n",
      "val Loss: 0.4396, precision: 0.8717, recall: 0.8717, roc_auc: 0.9460, \n",
      "    Epoch 4/40\n",
      "train Loss: 0.2291, precision: 0.9226, recall: 0.9226, roc_auc: 0.9598, \n",
      "val Loss: 0.3976, precision: 0.8884, recall: 0.8884, roc_auc: 0.9672, \n",
      "    Epoch 5/40\n",
      "train Loss: 0.2033, precision: 0.9202, recall: 0.9202, roc_auc: 0.9637, \n",
      "val Loss: 0.3512, precision: 0.8924, recall: 0.8924, roc_auc: 0.9761, \n",
      "    Epoch 6/40\n",
      "train Loss: 0.1829, precision: 0.9301, recall: 0.9301, roc_auc: 0.9639, \n",
      "val Loss: 0.3334, precision: 0.8985, recall: 0.8985, roc_auc: 0.9729, \n",
      "    Epoch 7/40\n",
      "train Loss: 0.1684, precision: 0.9408, recall: 0.9408, roc_auc: 0.9674, \n",
      "val Loss: 0.3219, precision: 0.9074, recall: 0.9074, roc_auc: 0.9802, \n",
      "    Epoch 8/40\n",
      "train Loss: 0.1526, precision: 0.9389, recall: 0.9389, roc_auc: 0.9650, \n",
      "val Loss: 0.3483, precision: 0.9006, recall: 0.9006, roc_auc: 0.9692, \n",
      "    Epoch 9/40\n",
      "train Loss: 0.1456, precision: 0.9412, recall: 0.9412, roc_auc: 0.9674, \n",
      "val Loss: 0.3436, precision: 0.9057, recall: 0.9057, roc_auc: 0.9734, \n",
      "    Epoch 10/40\n",
      "train Loss: 0.1370, precision: 0.9437, recall: 0.9437, roc_auc: 0.9657, \n",
      "val Loss: 0.3086, precision: 0.9080, recall: 0.9080, roc_auc: 0.9686, \n",
      "    Epoch 11/40\n",
      "train Loss: 0.1354, precision: 0.9455, recall: 0.9455, roc_auc: 0.9659, \n",
      "val Loss: 0.2811, precision: 0.9087, recall: 0.9087, roc_auc: 0.9692, \n",
      "    Epoch 12/40\n",
      "train Loss: 0.1299, precision: 0.9493, recall: 0.9493, roc_auc: 0.9646, \n",
      "val Loss: 0.3044, precision: 0.9118, recall: 0.9118, roc_auc: 0.9672, \n",
      "    Epoch 13/40\n",
      "train Loss: 0.1204, precision: 0.9483, recall: 0.9483, roc_auc: 0.9627, \n",
      "val Loss: 0.3142, precision: 0.9084, recall: 0.9084, roc_auc: 0.9657, \n",
      "    Epoch 14/40\n",
      "train Loss: 0.1222, precision: 0.9418, recall: 0.9418, roc_auc: 0.9646, \n",
      "val Loss: 0.3024, precision: 0.9077, recall: 0.9077, roc_auc: 0.9668, \n",
      "    Epoch 15/40\n",
      "train Loss: 0.1195, precision: 0.9506, recall: 0.9506, roc_auc: 0.9636, \n",
      "val Loss: 0.2656, precision: 0.9145, recall: 0.9145, roc_auc: 0.9663, \n",
      "    Epoch 16/40\n",
      "train Loss: 0.1152, precision: 0.9464, recall: 0.9464, roc_auc: 0.9642, \n",
      "val Loss: 0.2720, precision: 0.9131, recall: 0.9131, roc_auc: 0.9674, \n",
      "    Epoch 17/40\n",
      "train Loss: 0.1144, precision: 0.9436, recall: 0.9436, roc_auc: 0.9629, \n",
      "val Loss: 0.2853, precision: 0.9104, recall: 0.9104, roc_auc: 0.9653, \n",
      "    Epoch 18/40\n",
      "train Loss: 0.1142, precision: 0.9505, recall: 0.9505, roc_auc: 0.9670, \n",
      "val Loss: 0.2940, precision: 0.9172, recall: 0.9172, roc_auc: 0.9704, \n",
      "    Epoch 19/40\n",
      "train Loss: 0.1150, precision: 0.9517, recall: 0.9517, roc_auc: 0.9640, \n",
      "val Loss: 0.2705, precision: 0.9172, recall: 0.9172, roc_auc: 0.9685, \n",
      "    Epoch 20/40\n",
      "train Loss: 0.1079, precision: 0.9446, recall: 0.9446, roc_auc: 0.9592, \n",
      "val Loss: 0.2764, precision: 0.9141, recall: 0.9141, roc_auc: 0.9609, \n",
      "    Epoch 21/40\n",
      "train Loss: 0.1069, precision: 0.9528, recall: 0.9528, roc_auc: 0.9628, \n",
      "val Loss: 0.2762, precision: 0.9148, recall: 0.9148, roc_auc: 0.9670, \n",
      "    Epoch 22/40\n",
      "train Loss: 0.1077, precision: 0.9508, recall: 0.9508, roc_auc: 0.9638, \n",
      "val Loss: 0.2754, precision: 0.9209, recall: 0.9209, roc_auc: 0.9667, \n",
      "    Epoch 23/40\n",
      "train Loss: 0.1052, precision: 0.9484, recall: 0.9484, roc_auc: 0.9644, \n",
      "val Loss: 0.2792, precision: 0.9223, recall: 0.9223, roc_auc: 0.9662, \n",
      "    Epoch 24/40\n",
      "train Loss: 0.1055, precision: 0.9558, recall: 0.9558, roc_auc: 0.9682, \n",
      "val Loss: 0.2646, precision: 0.9284, recall: 0.9284, roc_auc: 0.9717, \n",
      "    Epoch 25/40\n",
      "train Loss: 0.1059, precision: 0.9531, recall: 0.9531, roc_auc: 0.9692, \n",
      "val Loss: 0.2565, precision: 0.9304, recall: 0.9304, roc_auc: 0.9730, \n",
      "    Epoch 26/40\n",
      "train Loss: 0.1035, precision: 0.9533, recall: 0.9533, roc_auc: 0.9694, \n",
      "val Loss: 0.3110, precision: 0.9260, recall: 0.9260, roc_auc: 0.9719, \n",
      "    Epoch 27/40\n",
      "train Loss: 0.0994, precision: 0.9527, recall: 0.9527, roc_auc: 0.9669, \n",
      "val Loss: 0.2821, precision: 0.9226, recall: 0.9226, roc_auc: 0.9711, \n",
      "    Epoch 28/40\n",
      "train Loss: 0.0994, precision: 0.9513, recall: 0.9513, roc_auc: 0.9645, \n",
      "val Loss: 0.2994, precision: 0.9192, recall: 0.9192, roc_auc: 0.9671, \n",
      "    Epoch 29/40\n",
      "train Loss: 0.1013, precision: 0.9559, recall: 0.9559, roc_auc: 0.9665, \n",
      "val Loss: 0.2940, precision: 0.9281, recall: 0.9281, roc_auc: 0.9705, \n",
      "    Epoch 30/40\n",
      "train Loss: 0.0992, precision: 0.9551, recall: 0.9551, roc_auc: 0.9658, \n",
      "val Loss: 0.2951, precision: 0.9230, recall: 0.9230, roc_auc: 0.9697, \n",
      "    Epoch 31/40\n",
      "train Loss: 0.1052, precision: 0.9539, recall: 0.9539, roc_auc: 0.9734, \n",
      "val Loss: 0.2736, precision: 0.9281, recall: 0.9281, roc_auc: 0.9809, \n",
      "    Epoch 32/40\n",
      "train Loss: 0.0976, precision: 0.9573, recall: 0.9573, roc_auc: 0.9746, \n",
      "val Loss: 0.2847, precision: 0.9257, recall: 0.9257, roc_auc: 0.9836, \n",
      "    Epoch 33/40\n",
      "train Loss: 0.0967, precision: 0.9544, recall: 0.9544, roc_auc: 0.9725, \n",
      "val Loss: 0.3346, precision: 0.9260, recall: 0.9260, roc_auc: 0.9768, \n",
      "    Epoch 34/40\n",
      "train Loss: 0.0996, precision: 0.9474, recall: 0.9474, roc_auc: 0.9727, \n",
      "val Loss: 0.3337, precision: 0.9253, recall: 0.9253, roc_auc: 0.9776, \n",
      "    Epoch 35/40\n",
      "train Loss: 0.0927, precision: 0.9547, recall: 0.9547, roc_auc: 0.9746, \n",
      "val Loss: 0.2913, precision: 0.9328, recall: 0.9328, roc_auc: 0.9813, \n",
      "    Epoch 36/40\n",
      "train Loss: 0.0938, precision: 0.9567, recall: 0.9567, roc_auc: 0.9752, \n",
      "val Loss: 0.3129, precision: 0.9291, recall: 0.9291, roc_auc: 0.9809, \n",
      "    Epoch 37/40\n",
      "train Loss: 0.0924, precision: 0.9581, recall: 0.9581, roc_auc: 0.9720, \n",
      "val Loss: 0.2911, precision: 0.9291, recall: 0.9291, roc_auc: 0.9781, \n",
      "    Epoch 38/40\n",
      "train Loss: 0.0915, precision: 0.9569, recall: 0.9569, roc_auc: 0.9752, \n",
      "val Loss: 0.3050, precision: 0.9277, recall: 0.9277, roc_auc: 0.9844, \n",
      "    Epoch 39/40\n",
      "train Loss: 0.0956, precision: 0.9563, recall: 0.9563, roc_auc: 0.9776, \n",
      "val Loss: 0.2957, precision: 0.9318, recall: 0.9318, roc_auc: 0.9850, \n",
      "    Epoch 40/40\n",
      "train Loss: 0.0908, precision: 0.9593, recall: 0.9593, roc_auc: 0.9781, \n",
      "val Loss: 0.3250, precision: 0.9284, recall: 0.9284, roc_auc: 0.9835, \n",
      "Training complete in 0m 33s\n"
     ]
    }
   ],
   "source": [
    "model2, history2 = train_model(model2, dataloaders, optimizer, num_epochs=40)"
   ]
  },
  {
   "cell_type": "code",
   "execution_count": 160,
   "id": "fDOiY8u8UbAC",
   "metadata": {
    "colab": {
     "base_uri": "https://localhost:8080/",
     "height": 404
    },
    "id": "fDOiY8u8UbAC",
    "outputId": "1cff0aed-2724-4e75-9a0b-8749d1b8331b"
   },
   "outputs": [
    {
     "data": {
      "image/png": "[encoded data removed]",
      "text/plain": [
       "<Figure size 720x432 with 1 Axes>"
      ]
     },
     "metadata": {
      "needs_background": "light"
     },
     "output_type": "display_data"
    }
   ],
   "source": [
    "history_plot(history2, [\"precision\", \"recall\", \"roc_auc\"])"
   ]
  },
  {
   "cell_type": "code",
   "execution_count": 161,
   "id": "RILAmUfkUbAD",
   "metadata": {
    "colab": {
     "base_uri": "https://localhost:8080/",
     "height": 404
    },
    "id": "RILAmUfkUbAD",
    "outputId": "8af54cd9-3d81-4d37-bf9e-2bf49633f63d"
   },
   "outputs": [
    {
     "data": {
      "image/png": "[encoded data removed]",
      "text/plain": [
       "<Figure size 720x432 with 1 Axes>"
      ]
     },
     "metadata": {
      "needs_background": "light"
     },
     "output_type": "display_data"
    }
   ],
   "source": [
    "history_plot(history2, [\"Loss\"])"
   ]
  },
  {
   "cell_type": "markdown",
   "id": "IM1pG3s7UbAD",
   "metadata": {
    "id": "IM1pG3s7UbAD"
   },
   "source": [
    "### Посмотрим, какие метрики получаются на тестовой выборке"
   ]
  },
  {
   "cell_type": "code",
   "execution_count": 162,
   "id": "hfqzaDS5UbAD",
   "metadata": {
    "colab": {
     "base_uri": "https://localhost:8080/"
    },
    "id": "hfqzaDS5UbAD",
    "outputId": "7ea45f27-c245-48aa-a678-cb4f8a3be791"
   },
   "outputs": [
    {
     "name": "stdout",
     "output_type": "stream",
     "text": [
      "precision = 0.928\n",
      "recall = 0.928\n",
      "roc_auc = 0.983\n"
     ]
    }
   ],
   "source": [
    "pred_probs = model2(X_test_norm.to(device))\n",
    "pred_labels = torch.argmax(pred_probs, dim=1)\n",
    "true_labels = torch.argmax(y_test, dim=1)\n",
    "\n",
    "precision = precision_score(true_labels, pred_labels.cpu(), average='micro')\n",
    "recall = recall_score(true_labels, pred_labels.cpu(), average='micro')\n",
    "roc_auc = roc_auc_score(y_test, pred_probs.cpu().detach().numpy(), multi_class=\"ovo\")\n",
    "\n",
    "print(f\"precision = {round(precision, 3)}\")\n",
    "print(f\"recall = {round(recall, 3)}\")\n",
    "print(f\"roc_auc = {round(roc_auc, 3)}\")"
   ]
  },
  {
   "cell_type": "markdown",
   "id": "067c184d-d61a-43aa-81bf-4ed458df4452",
   "metadata": {
    "id": "pxLjpo4So8x5"
   },
   "source": [
    "# <center>Summary"
   ]
  },
  {
   "cell_type": "markdown",
   "id": "ea1eaf1d-1c7e-44f7-84a2-1aa0b1ecdf57",
   "metadata": {},
   "source": [
    "1) Было создано и обучено **3 модели**:\n",
    "    - ML модель на базе градиентного бустинга (XGBoost) с деревьями в качестве базового алгоритма и с предварительным **Feature Engineering**\n",
    "    - DL модель на базе рекурентной архитектуры LSTM с базовой предобработкой фичей\n",
    "    - DL модель на базе архитектуры 1D CNN с базовой предобработкой фичей\n",
    "\n",
    "2) Во всех 3-х моделях базовый порог **0.92** преодолен, но наилучшие результаты у модели 1D CNN,  немного отстал XGBoost, замыкает LSTM\n",
    "\n",
    "3) ML модели требуют больше усилий по Feature Engineering и предобработке фичей, но усилия по созданию самой модели сравнительно невелики. DL модели, наоборот, требуют сравнительно небольшую предобработку фичей, но больше усилий по созданию самих моделей и кода для обучения и контроля обучения. \n",
    "\n",
    "4) Если сравнивать DL модели, то 1D CNN модель обучается быстрее и показыват более высокие результаты, чем LSTM\n",
    "\n",
    "5) Для дальнейшего улучшения результатов:\n",
    "    - для ML моделей \n",
    "        - работа по линии Feature Engineering\n",
    "        - ансамблирование разных моделей\n",
    "        - более тонкая настройка моделей\n",
    "    - для DL моделей\n",
    "        - оптимизация архитектуры\n",
    "        - более тонкая настройка\n",
    "\n",
    "6) Исходя из проведенного исследования для этой задачи использование DL модели архитектуры 1D CNN выглядит более предпочтительно"
   ]
  }
 ],
 "metadata": {
  "accelerator": "GPU",
  "colab": {
   "collapsed_sections": [],
   "name": "03_LSTM_and_1D-CNN.ipynb",
   "provenance": []
  },
  "kernelspec": {
   "display_name": "Python 3 (ipykernel)",
   "language": "python",
   "name": "python3"
  },
  "language_info": {
   "codemirror_mode": {
    "name": "ipython",
    "version": 3
   },
   "file_extension": ".py",
   "mimetype": "text/x-python",
   "name": "python",
   "nbconvert_exporter": "python",
   "pygments_lexer": "ipython3",
   "version": "3.8.6"
  }
 },
 "nbformat": 4,
 "nbformat_minor": 5
}
